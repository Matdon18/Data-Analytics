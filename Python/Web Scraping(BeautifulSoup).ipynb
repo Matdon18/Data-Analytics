{
 "cells": [
  {
   "cell_type": "code",
   "execution_count": 7,
   "id": "20f1c6b3-78d2-4d83-b764-d54e661ff5b4",
   "metadata": {},
   "outputs": [],
   "source": [
    "from bs4 import BeautifulSoup"
   ]
  },
  {
   "cell_type": "code",
   "execution_count": 35,
   "id": "0051ee6f-843d-4599-a14c-f630d204dfc3",
   "metadata": {},
   "outputs": [],
   "source": [
    "import pandas as pd"
   ]
  },
  {
   "cell_type": "code",
   "execution_count": 4,
   "id": "f7d23309-72c3-494e-b36b-89126671af2c",
   "metadata": {},
   "outputs": [],
   "source": [
    "import requests"
   ]
  },
  {
   "cell_type": "code",
   "execution_count": 6,
   "id": "879a6b8a-a9b3-44c9-9ff0-581228f35f2f",
   "metadata": {},
   "outputs": [],
   "source": [
    "url= \"https://books.toscrape.com/catalogue/page-1.html\""
   ]
  },
  {
   "cell_type": "code",
   "execution_count": 8,
   "id": "ec4fc6b7-9b59-4b1b-9980-6a6b0b4ea693",
   "metadata": {},
   "outputs": [],
   "source": [
    "response = requests.get(url)"
   ]
  },
  {
   "cell_type": "code",
   "execution_count": 9,
   "id": "d89d0300-985f-4763-96d5-0471edb1a702",
   "metadata": {},
   "outputs": [],
   "source": [
    "response= response.content"
   ]
  },
  {
   "cell_type": "code",
   "execution_count": 11,
   "id": "516b5b3a-a893-43a4-9682-767334c1d5ba",
   "metadata": {},
   "outputs": [],
   "source": [
    "soup= BeautifulSoup(response,'html.parser')"
   ]
  },
  {
   "cell_type": "code",
   "execution_count": 14,
   "id": "69f5c7cd-de12-46fc-a53a-e54aecf34775",
   "metadata": {},
   "outputs": [],
   "source": [
    "ol= soup.find('ol')"
   ]
  },
  {
   "cell_type": "code",
   "execution_count": 17,
   "id": "4b78aa72-fc4e-47b8-b34e-b1b545e577a4",
   "metadata": {},
   "outputs": [],
   "source": [
    "articles= ol.find_all('article', class_='product_pod')"
   ]
  },
  {
   "cell_type": "code",
   "execution_count": 38,
   "id": "427eb53c-c2e9-4c95-8def-d9382bd8e4f2",
   "metadata": {},
   "outputs": [],
   "source": [
    "books=[]\n",
    "for article in articles:\n",
    "    image=article.find('img')\n",
    "    title=image.attrs['alt']\n",
    "    star=article.find('p')\n",
    "    star=star['class'][1]\n",
    "    price=article.find('p',class_='price_color').text\n",
    "    books.append([title,price,star])\n",
    "   \n",
    "    "
   ]
  },
  {
   "cell_type": "code",
   "execution_count": 37,
   "id": "6bacf5b4-041b-47e7-a8b6-cd3f46d3d1e7",
   "metadata": {},
   "outputs": [],
   "source": [
    "df=pd.DataFrame(books, columns=['Title','Price','Rating'])"
   ]
  },
  {
   "cell_type": "code",
   "execution_count": 39,
   "id": "fc55beb6-6e4c-4851-9d9c-70a7a9d9a512",
   "metadata": {},
   "outputs": [
    {
     "name": "stdout",
     "output_type": "stream",
     "text": [
      "                                                Title   Price Rating\n",
      "0                                A Light in the Attic  £51.77  Three\n",
      "1                                  Tipping the Velvet  £53.74    One\n",
      "2                                          Soumission  £50.10    One\n",
      "3                                       Sharp Objects  £47.82   Four\n",
      "4               Sapiens: A Brief History of Humankind  £54.23   Five\n",
      "5                                     The Requiem Red  £22.65    One\n",
      "6   The Dirty Little Secrets of Getting Your Dream...  £33.34   Four\n",
      "7   The Coming Woman: A Novel Based on the Life of...  £17.93  Three\n",
      "8   The Boys in the Boat: Nine Americans and Their...  £22.60   Four\n",
      "9                                     The Black Maria  £52.15    One\n",
      "10     Starving Hearts (Triangular Trade Trilogy, #1)  £13.99    Two\n",
      "11                              Shakespeare's Sonnets  £20.66   Four\n",
      "12                                        Set Me Free  £17.46   Five\n",
      "13  Scott Pilgrim's Precious Little Life (Scott Pi...  £52.29   Five\n",
      "14                          Rip it Up and Start Again  £35.02   Five\n",
      "15  Our Band Could Be Your Life: Scenes from the A...  £57.25  Three\n",
      "16                                               Olio  £23.88    One\n",
      "17  Mesaerion: The Best Science Fiction Stories 18...  £37.59    One\n",
      "18                       Libertarianism for Beginners  £51.33    Two\n",
      "19                            It's Only the Himalayas  £45.17    Two\n"
     ]
    }
   ],
   "source": [
    "print(df)"
   ]
  },
  {
   "cell_type": "code",
   "execution_count": 42,
   "id": "45e89714-e8d3-4910-88e5-9b111e4bdee5",
   "metadata": {},
   "outputs": [],
   "source": [
    "df.to_csv('books.csv')"
   ]
  }
 ],
 "metadata": {
  "kernelspec": {
   "display_name": "Python 3 (ipykernel)",
   "language": "python",
   "name": "python3"
  },
  "language_info": {
   "codemirror_mode": {
    "name": "ipython",
    "version": 3
   },
   "file_extension": ".py",
   "mimetype": "text/x-python",
   "name": "python",
   "nbconvert_exporter": "python",
   "pygments_lexer": "ipython3",
   "version": "3.12.3"
  }
 },
 "nbformat": 4,
 "nbformat_minor": 5
}
